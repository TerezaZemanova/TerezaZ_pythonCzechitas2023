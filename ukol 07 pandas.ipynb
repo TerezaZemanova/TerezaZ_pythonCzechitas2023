{
 "cells": [
  {
   "cell_type": "code",
   "execution_count": 1,
   "metadata": {},
   "outputs": [],
   "source": [
    "import pandas"
   ]
  },
  {
   "cell_type": "code",
   "execution_count": 3,
   "metadata": {},
   "outputs": [
    {
     "data": {
      "text/html": [
       "<div>\n",
       "<style scoped>\n",
       "    .dataframe tbody tr th:only-of-type {\n",
       "        vertical-align: middle;\n",
       "    }\n",
       "\n",
       "    .dataframe tbody tr th {\n",
       "        vertical-align: top;\n",
       "    }\n",
       "\n",
       "    .dataframe thead th {\n",
       "        text-align: right;\n",
       "    }\n",
       "</style>\n",
       "<table border=\"1\" class=\"dataframe\">\n",
       "  <thead>\n",
       "    <tr style=\"text-align: right;\">\n",
       "      <th></th>\n",
       "      <th>id;nazev_cz;nazev_en;trida_cz;cena;k_prohlidce</th>\n",
       "    </tr>\n",
       "  </thead>\n",
       "  <tbody>\n",
       "    <tr>\n",
       "      <th>0</th>\n",
       "      <td>7;\"Šváb syčivý\";\"Madagascar giant cockroach \";...</td>\n",
       "    </tr>\n",
       "    <tr>\n",
       "      <th>1</th>\n",
       "      <td>8;\"Pakobylka okřídlená\";\"Pink-winged stick ins...</td>\n",
       "    </tr>\n",
       "    <tr>\n",
       "      <th>2</th>\n",
       "      <td>16;\"Tayra\";\"Tayra\";\"Savci\";5000;1</td>\n",
       "    </tr>\n",
       "    <tr>\n",
       "      <th>3</th>\n",
       "      <td>35;\"Kajmanka supí\";\"Alligator snapping turtle\"...</td>\n",
       "    </tr>\n",
       "    <tr>\n",
       "      <th>4</th>\n",
       "      <td>37;\"Želva žlutočelá\";\"Indochinese box turtle\";...</td>\n",
       "    </tr>\n",
       "    <tr>\n",
       "      <th>...</th>\n",
       "      <td>...</td>\n",
       "    </tr>\n",
       "    <tr>\n",
       "      <th>508</th>\n",
       "      <td>1417;\"Rosnice šalamounská\";\" \";\"Obojživelníci\"...</td>\n",
       "    </tr>\n",
       "    <tr>\n",
       "      <th>509</th>\n",
       "      <td>1418;\"Létavka obecná\";\" \";\"Obojživelníci\";1000;1</td>\n",
       "    </tr>\n",
       "    <tr>\n",
       "      <th>510</th>\n",
       "      <td>1419;\"Bažant paví\";\" \";\"Ptáci\";1000;1</td>\n",
       "    </tr>\n",
       "    <tr>\n",
       "      <th>511</th>\n",
       "      <td>1420;\"Sojkovec rezavouchý\";\" \";\"Ptáci\";1000;1</td>\n",
       "    </tr>\n",
       "    <tr>\n",
       "      <th>512</th>\n",
       "      <td>1421;\"Kachnice kaštanová\";\" \";\"Ptáci\";1000;1</td>\n",
       "    </tr>\n",
       "  </tbody>\n",
       "</table>\n",
       "<p>513 rows × 1 columns</p>\n",
       "</div>"
      ],
      "text/plain": [
       "        id;nazev_cz;nazev_en;trida_cz;cena;k_prohlidce\n",
       "0    7;\"Šváb syčivý\";\"Madagascar giant cockroach \";...\n",
       "1    8;\"Pakobylka okřídlená\";\"Pink-winged stick ins...\n",
       "2                    16;\"Tayra\";\"Tayra\";\"Savci\";5000;1\n",
       "3    35;\"Kajmanka supí\";\"Alligator snapping turtle\"...\n",
       "4    37;\"Želva žlutočelá\";\"Indochinese box turtle\";...\n",
       "..                                                 ...\n",
       "508  1417;\"Rosnice šalamounská\";\" \";\"Obojživelníci\"...\n",
       "509   1418;\"Létavka obecná\";\" \";\"Obojživelníci\";1000;1\n",
       "510              1419;\"Bažant paví\";\" \";\"Ptáci\";1000;1\n",
       "511      1420;\"Sojkovec rezavouchý\";\" \";\"Ptáci\";1000;1\n",
       "512       1421;\"Kachnice kaštanová\";\" \";\"Ptáci\";1000;1\n",
       "\n",
       "[513 rows x 1 columns]"
      ]
     },
     "execution_count": 3,
     "metadata": {},
     "output_type": "execute_result"
    }
   ],
   "source": [
    "url = \"/Users/tereza/Czechitas Pandas/adopce-zvirat.csv\"\n",
    "adopce_zvirat = pandas.read_csv(url)\n",
    "adopce_zvirat"
   ]
  },
  {
   "cell_type": "code",
   "execution_count": 7,
   "metadata": {},
   "outputs": [
    {
     "data": {
      "text/plain": [
       "(513, 1)"
      ]
     },
     "execution_count": 7,
     "metadata": {},
     "output_type": "execute_result"
    }
   ],
   "source": [
    "adopce_zvirat.shape"
   ]
  },
  {
   "cell_type": "code",
   "execution_count": 8,
   "metadata": {},
   "outputs": [
    {
     "data": {
      "text/plain": [
       "Index(['id;nazev_cz;nazev_en;trida_cz;cena;k_prohlidce'], dtype='object')"
      ]
     },
     "execution_count": 8,
     "metadata": {},
     "output_type": "execute_result"
    }
   ],
   "source": [
    "adopce_zvirat.columns"
   ]
  },
  {
   "cell_type": "code",
   "execution_count": 10,
   "metadata": {},
   "outputs": [
    {
     "data": {
      "text/html": [
       "<div>\n",
       "<style scoped>\n",
       "    .dataframe tbody tr th:only-of-type {\n",
       "        vertical-align: middle;\n",
       "    }\n",
       "\n",
       "    .dataframe tbody tr th {\n",
       "        vertical-align: top;\n",
       "    }\n",
       "\n",
       "    .dataframe thead th {\n",
       "        text-align: right;\n",
       "    }\n",
       "</style>\n",
       "<table border=\"1\" class=\"dataframe\">\n",
       "  <thead>\n",
       "    <tr style=\"text-align: right;\">\n",
       "      <th></th>\n",
       "      <th>id;nazev_cz;nazev_en;trida_cz;cena;k_prohlidce</th>\n",
       "    </tr>\n",
       "  </thead>\n",
       "  <tbody>\n",
       "    <tr>\n",
       "      <th>35</th>\n",
       "      <td>100;\"Ibis skalní\";\"Northern bald ibis\";\"Ptáci\"...</td>\n",
       "    </tr>\n",
       "  </tbody>\n",
       "</table>\n",
       "</div>"
      ],
      "text/plain": [
       "       id;nazev_cz;nazev_en;trida_cz;cena;k_prohlidce\n",
       "35  100;\"Ibis skalní\";\"Northern bald ibis\";\"Ptáci\"..."
      ]
     },
     "execution_count": 10,
     "metadata": {},
     "output_type": "execute_result"
    }
   ],
   "source": [
    "adopce_zvirat.iloc[[35]]"
   ]
  }
 ],
 "metadata": {
  "kernelspec": {
   "display_name": "Python 3",
   "language": "python",
   "name": "python3"
  },
  "language_info": {
   "codemirror_mode": {
    "name": "ipython",
    "version": 3
   },
   "file_extension": ".py",
   "mimetype": "text/x-python",
   "name": "python",
   "nbconvert_exporter": "python",
   "pygments_lexer": "ipython3",
   "version": "3.9.10"
  }
 },
 "nbformat": 4,
 "nbformat_minor": 2
}
